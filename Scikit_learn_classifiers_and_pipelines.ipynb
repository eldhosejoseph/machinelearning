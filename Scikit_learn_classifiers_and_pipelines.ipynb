{
  "cells": [
    {
      "cell_type": "markdown",
      "metadata": {
        "id": "view-in-github",
        "colab_type": "text"
      },
      "source": [
        "<a href=\"https://colab.research.google.com/github/eldhosejoseph/machinelearning/blob/main/Scikit_learn_classifiers_and_pipelines.ipynb\" target=\"_parent\"><img src=\"https://colab.research.google.com/assets/colab-badge.svg\" alt=\"Open In Colab\"/></a>"
      ]
    },
    {
      "cell_type": "markdown",
      "metadata": {
        "id": "9jE7-FpOc-w-"
      },
      "source": [
        "# Prediction with sklearn"
      ]
    },
    {
      "cell_type": "markdown",
      "metadata": {
        "id": "7kOAFb2Wc-xA"
      },
      "source": [
        "By: Jacobo Fernandez-Vargas and Luca Citi\n",
        "\n",
        "Based on the [scikit-learn documentation](http://scikit-learn.org/stable/tutorial/basic/tutorial.html)"
      ]
    },
    {
      "cell_type": "markdown",
      "metadata": {
        "id": "OpjZHzTLc-xA"
      },
      "source": [
        "## Loading the 'digits' dataset"
      ]
    },
    {
      "cell_type": "markdown",
      "metadata": {
        "id": "OZpctwNEc-xA"
      },
      "source": [
        "Scikit-learn comes with a few standard datasets, for instance the *Iris* and *digits* datasets for classification and the *Boston house prices* dataset for regression."
      ]
    },
    {
      "cell_type": "code",
      "execution_count": 1,
      "metadata": {
        "id": "F9vH3dmAc-xA"
      },
      "outputs": [],
      "source": [
        "from sklearn import datasets\n",
        "\n",
        "digits = datasets.load_digits()"
      ]
    },
    {
      "cell_type": "markdown",
      "metadata": {
        "id": "DT6zJqFWc-xB"
      },
      "source": [
        "A dataset is a dictionary-like object that holds all the data and some metadata about the data. The data is stored in the `.data` member, which is usually a `n_samples` by `n_features` array. In the case of supervised problem, one or more response variables are stored in the `.target` member."
      ]
    },
    {
      "cell_type": "markdown",
      "metadata": {
        "id": "lIWPd5HSc-xB"
      },
      "source": [
        "For instance, in the case of the digits dataset, `digits.data` gives access to the features that can be used to classify the digits samples:"
      ]
    },
    {
      "cell_type": "code",
      "execution_count": 2,
      "metadata": {
        "colab": {
          "base_uri": "https://localhost:8080/"
        },
        "id": "kGOlqY7kc-xB",
        "outputId": "b2ebd938-52c9-4128-b16a-82abe062b641"
      },
      "outputs": [
        {
          "output_type": "stream",
          "name": "stdout",
          "text": [
            "(1797, 64)\n",
            "[[ 0.  0.  5. ...  0.  0.  0.]\n",
            " [ 0.  0.  0. ... 10.  0.  0.]\n",
            " [ 0.  0.  0. ... 16.  9.  0.]\n",
            " ...\n",
            " [ 0.  0.  1. ...  6.  0.  0.]\n",
            " [ 0.  0.  2. ... 12.  0.  0.]\n",
            " [ 0.  0. 10. ... 12.  1.  0.]]\n"
          ]
        }
      ],
      "source": [
        "print(digits.data.shape)\n",
        "print(digits.data)"
      ]
    },
    {
      "cell_type": "markdown",
      "metadata": {
        "id": "DFGzGOPtc-xC"
      },
      "source": [
        "and `digits.target` gives the ground truth for the digit dataset, that is the number corresponding to each digit image that we are trying to learn:"
      ]
    },
    {
      "cell_type": "code",
      "execution_count": 3,
      "metadata": {
        "colab": {
          "base_uri": "https://localhost:8080/"
        },
        "id": "HaFOujP3c-xC",
        "outputId": "60a5804a-2c7e-4489-d00b-44ff001ddb30"
      },
      "outputs": [
        {
          "output_type": "stream",
          "name": "stdout",
          "text": [
            "(1797,)\n",
            "[0 1 2 ... 8 9 8]\n"
          ]
        }
      ],
      "source": [
        "print(digits.target.shape)\n",
        "print(digits.target)"
      ]
    },
    {
      "cell_type": "markdown",
      "metadata": {
        "id": "A4T4y94wc-xC"
      },
      "source": [
        "## Learning and predicting\n",
        "In the case of the digits dataset, the task is to predict, given an image, which digit it represents. We are given samples of each of the 10 possible classes (the digits 0 through 9). These can be used to fit an estimator to predict the class an unseen example belongs to.\n",
        "\n",
        "In scikit-learn, an estimator for classification is a Python object that implements the methods `fit(X, y)` and `predict(T)`. If you remember in the last lab we saw that the preprocessing classes had the methods `fit(X, y)` and `transform(T)`. We will see the differences later.\n",
        "\n",
        "An example of an estimator is the class `sklearn.svm.SVC` that implements support vector classification. The constructor of an estimator takes as arguments the parameters of the model, but for the time being, we will consider the estimator as a black box:"
      ]
    },
    {
      "cell_type": "code",
      "execution_count": 4,
      "metadata": {
        "id": "kXopfnpcc-xC"
      },
      "outputs": [],
      "source": [
        "from sklearn import svm\n",
        "\n",
        "clf = svm.SVC(gamma=0.0001, C=100.)"
      ]
    },
    {
      "cell_type": "markdown",
      "metadata": {
        "id": "6q3x5hWpc-xC"
      },
      "source": [
        "We call our estimator instance `clf`, as it is a classifier. **It now must be fitted to the model, that is, it must learn from the data**. This is done by passing our training set to the `fit` method. As a training set, let us use all the images of our dataset apart from the last one. We select this training set with the `[:-1]` Python syntax, which produces a new array that contains **all but the last entry** of `digits.data`:"
      ]
    },
    {
      "cell_type": "code",
      "execution_count": 5,
      "metadata": {
        "colab": {
          "base_uri": "https://localhost:8080/",
          "height": 75
        },
        "id": "bfTZIfmAc-xD",
        "outputId": "bb5bdfd0-39bc-4857-ea85-175e3d327870"
      },
      "outputs": [
        {
          "output_type": "execute_result",
          "data": {
            "text/plain": [
              "SVC(C=100.0, gamma=0.0001)"
            ],
            "text/html": [
              "<style>#sk-container-id-1 {color: black;background-color: white;}#sk-container-id-1 pre{padding: 0;}#sk-container-id-1 div.sk-toggleable {background-color: white;}#sk-container-id-1 label.sk-toggleable__label {cursor: pointer;display: block;width: 100%;margin-bottom: 0;padding: 0.3em;box-sizing: border-box;text-align: center;}#sk-container-id-1 label.sk-toggleable__label-arrow:before {content: \"▸\";float: left;margin-right: 0.25em;color: #696969;}#sk-container-id-1 label.sk-toggleable__label-arrow:hover:before {color: black;}#sk-container-id-1 div.sk-estimator:hover label.sk-toggleable__label-arrow:before {color: black;}#sk-container-id-1 div.sk-toggleable__content {max-height: 0;max-width: 0;overflow: hidden;text-align: left;background-color: #f0f8ff;}#sk-container-id-1 div.sk-toggleable__content pre {margin: 0.2em;color: black;border-radius: 0.25em;background-color: #f0f8ff;}#sk-container-id-1 input.sk-toggleable__control:checked~div.sk-toggleable__content {max-height: 200px;max-width: 100%;overflow: auto;}#sk-container-id-1 input.sk-toggleable__control:checked~label.sk-toggleable__label-arrow:before {content: \"▾\";}#sk-container-id-1 div.sk-estimator input.sk-toggleable__control:checked~label.sk-toggleable__label {background-color: #d4ebff;}#sk-container-id-1 div.sk-label input.sk-toggleable__control:checked~label.sk-toggleable__label {background-color: #d4ebff;}#sk-container-id-1 input.sk-hidden--visually {border: 0;clip: rect(1px 1px 1px 1px);clip: rect(1px, 1px, 1px, 1px);height: 1px;margin: -1px;overflow: hidden;padding: 0;position: absolute;width: 1px;}#sk-container-id-1 div.sk-estimator {font-family: monospace;background-color: #f0f8ff;border: 1px dotted black;border-radius: 0.25em;box-sizing: border-box;margin-bottom: 0.5em;}#sk-container-id-1 div.sk-estimator:hover {background-color: #d4ebff;}#sk-container-id-1 div.sk-parallel-item::after {content: \"\";width: 100%;border-bottom: 1px solid gray;flex-grow: 1;}#sk-container-id-1 div.sk-label:hover label.sk-toggleable__label {background-color: #d4ebff;}#sk-container-id-1 div.sk-serial::before {content: \"\";position: absolute;border-left: 1px solid gray;box-sizing: border-box;top: 0;bottom: 0;left: 50%;z-index: 0;}#sk-container-id-1 div.sk-serial {display: flex;flex-direction: column;align-items: center;background-color: white;padding-right: 0.2em;padding-left: 0.2em;position: relative;}#sk-container-id-1 div.sk-item {position: relative;z-index: 1;}#sk-container-id-1 div.sk-parallel {display: flex;align-items: stretch;justify-content: center;background-color: white;position: relative;}#sk-container-id-1 div.sk-item::before, #sk-container-id-1 div.sk-parallel-item::before {content: \"\";position: absolute;border-left: 1px solid gray;box-sizing: border-box;top: 0;bottom: 0;left: 50%;z-index: -1;}#sk-container-id-1 div.sk-parallel-item {display: flex;flex-direction: column;z-index: 1;position: relative;background-color: white;}#sk-container-id-1 div.sk-parallel-item:first-child::after {align-self: flex-end;width: 50%;}#sk-container-id-1 div.sk-parallel-item:last-child::after {align-self: flex-start;width: 50%;}#sk-container-id-1 div.sk-parallel-item:only-child::after {width: 0;}#sk-container-id-1 div.sk-dashed-wrapped {border: 1px dashed gray;margin: 0 0.4em 0.5em 0.4em;box-sizing: border-box;padding-bottom: 0.4em;background-color: white;}#sk-container-id-1 div.sk-label label {font-family: monospace;font-weight: bold;display: inline-block;line-height: 1.2em;}#sk-container-id-1 div.sk-label-container {text-align: center;}#sk-container-id-1 div.sk-container {/* jupyter's `normalize.less` sets `[hidden] { display: none; }` but bootstrap.min.css set `[hidden] { display: none !important; }` so we also need the `!important` here to be able to override the default hidden behavior on the sphinx rendered scikit-learn.org. See: https://github.com/scikit-learn/scikit-learn/issues/21755 */display: inline-block !important;position: relative;}#sk-container-id-1 div.sk-text-repr-fallback {display: none;}</style><div id=\"sk-container-id-1\" class=\"sk-top-container\"><div class=\"sk-text-repr-fallback\"><pre>SVC(C=100.0, gamma=0.0001)</pre><b>In a Jupyter environment, please rerun this cell to show the HTML representation or trust the notebook. <br />On GitHub, the HTML representation is unable to render, please try loading this page with nbviewer.org.</b></div><div class=\"sk-container\" hidden><div class=\"sk-item\"><div class=\"sk-estimator sk-toggleable\"><input class=\"sk-toggleable__control sk-hidden--visually\" id=\"sk-estimator-id-1\" type=\"checkbox\" checked><label for=\"sk-estimator-id-1\" class=\"sk-toggleable__label sk-toggleable__label-arrow\">SVC</label><div class=\"sk-toggleable__content\"><pre>SVC(C=100.0, gamma=0.0001)</pre></div></div></div></div></div>"
            ]
          },
          "metadata": {},
          "execution_count": 5
        }
      ],
      "source": [
        "clf.fit(digits.data[:-1], digits.target[:-1])"
      ]
    },
    {
      "cell_type": "markdown",
      "metadata": {
        "id": "6mBHy4Qoc-xD"
      },
      "source": [
        "Now you can predict new values. In particular, we can ask to the classifier to recognise the digit of our last image in the digits dataset, which we have not used to train the classifier:"
      ]
    },
    {
      "cell_type": "code",
      "execution_count": 6,
      "metadata": {
        "colab": {
          "base_uri": "https://localhost:8080/"
        },
        "id": "ljOzMXpCc-xD",
        "outputId": "3117f9a3-5ef6-4673-b70a-2f5e917c823a"
      },
      "outputs": [
        {
          "output_type": "execute_result",
          "data": {
            "text/plain": [
              "array([8])"
            ]
          },
          "metadata": {},
          "execution_count": 6
        }
      ],
      "source": [
        "clf.predict(digits.data[-1:])"
      ]
    },
    {
      "cell_type": "code",
      "source": [
        "digits.target[-1]"
      ],
      "metadata": {
        "colab": {
          "base_uri": "https://localhost:8080/"
        },
        "id": "PGbFs8j2e1jp",
        "outputId": "a81ae8b4-2f79-43d3-e898-63a21df24b6c"
      },
      "execution_count": 12,
      "outputs": [
        {
          "output_type": "execute_result",
          "data": {
            "text/plain": [
              "8"
            ]
          },
          "metadata": {},
          "execution_count": 12
        }
      ]
    },
    {
      "cell_type": "markdown",
      "metadata": {
        "id": "BRGTFmhzc-xD"
      },
      "source": [
        "The corresponding image is the following.\n",
        "As you can see, it is a challenging task: the images are of poor resolution."
      ]
    },
    {
      "cell_type": "code",
      "execution_count": 13,
      "metadata": {
        "colab": {
          "base_uri": "https://localhost:8080/",
          "height": 454
        },
        "id": "AGeZrah8c-xD",
        "outputId": "1798ec52-c0f5-4724-a8c3-346e06410b27"
      },
      "outputs": [
        {
          "output_type": "execute_result",
          "data": {
            "text/plain": [
              "<matplotlib.image.AxesImage at 0x7c708d4ec370>"
            ]
          },
          "metadata": {},
          "execution_count": 13
        },
        {
          "output_type": "display_data",
          "data": {
            "text/plain": [
              "<Figure size 480x480 with 1 Axes>"
            ],
            "image/png": "[encoded data removed]"
          },
          "metadata": {}
        }
      ],
      "source": [
        "%matplotlib inline\n",
        "import numpy as np\n",
        "from matplotlib import pyplot as plt\n",
        "\n",
        "plt.matshow(digits.images[-1], cmap='binary')"
      ]
    },
    {
      "cell_type": "markdown",
      "metadata": {
        "id": "wtiUqQ-Vc-xD"
      },
      "source": [
        "## Grid-search\n",
        "\n",
        "Almost all classifiers have parameters that need to be set. The meaning and roles of these pararmeters differ largely between classifiers and their appropiate selection can have huge impact on the results (but some times they may have almost no effect). This parameter fitting should happen inside a cross-validation process. Scikit-learn provides `GridSeachCV` that, given data, fit of an estimator on each combination of parameters on parameter grid and then chooses the parameters to maximize the cross validation score. To use this, we need to specify the classifier that we want to use and the values of the parameters that we want to test (through a dictionary). Interestingly, the  `GridSeachCV` constructor creates an object that can be used as a predcictor, using its `fit`, `predict`, `score`, ... methods; in other words it is a meta-predictor (i.e. a preditor built from other predictors, an SVM in thisd case) that can be used like any other predictors:"
      ]
    },
    {
      "cell_type": "code",
      "execution_count": 14,
      "metadata": {
        "colab": {
          "base_uri": "https://localhost:8080/"
        },
        "id": "zLbjTc4Kc-xE",
        "outputId": "0ccf5542-1fd5-4b1d-e2a3-8f2dc83ca91c"
      },
      "outputs": [
        {
          "output_type": "execute_result",
          "data": {
            "text/plain": [
              "1.0"
            ]
          },
          "metadata": {},
          "execution_count": 14
        }
      ],
      "source": [
        "from sklearn.model_selection import GridSearchCV\n",
        "\n",
        "clf = svm.SVC(gamma=0.01, C=10.)\n",
        "Cs = np.logspace(-1, 3, 5)  # five logarithmically spaced values of C\n",
        "Gs = np.logspace(-7, -0, 5)  # five logarithmically spaced values of gamma\n",
        "clf = GridSearchCV(estimator=clf, param_grid=dict(C=Cs, gamma=Gs), n_jobs=-1)\n",
        "\n",
        "clf.fit(digits.data, digits.target)\n",
        "clf.score(digits.data, digits.target)   #it should not be digits.data as it is testing on same training data set"
      ]
    },
    {
      "cell_type": "markdown",
      "metadata": {
        "id": "ePWcczZ7c-xE"
      },
      "source": [
        "**IMPORTANT NOTE**\n",
        "\n",
        "The way we trained and tested (fit, score) is WRONG! You should not calculate the score with the same data used for training, as we saw in the previous lectures and lab. We did it this way for demonstration purposes of how the GridSeachCV class works. The fact that we see a score of 1.0 (100%) should make us suspicious: it's often a sign that we did something wrong (either that or the problem is trivial)."
      ]
    },
    {
      "cell_type": "markdown",
      "metadata": {
        "id": "9dBcnEsDc-xE"
      },
      "source": [
        "We can see how the different values of C and gamma affect the performance:"
      ]
    },
    {
      "cell_type": "code",
      "execution_count": 9,
      "metadata": {
        "colab": {
          "base_uri": "https://localhost:8080/",
          "height": 423
        },
        "id": "jOisKVALc-xE",
        "outputId": "9fa6008d-684f-4d49-947c-e2e2afa21da7"
      },
      "outputs": [
        {
          "output_type": "stream",
          "name": "stdout",
          "text": [
            "Best parameters:  {'C': 100.0, 'gamma': 0.00031622776601683794}\n"
          ]
        },
        {
          "output_type": "display_data",
          "data": {
            "text/plain": [
              "<Figure size 640x480 with 2 Axes>"
            ],
            "image/png": "[encoded data removed]"
          },
          "metadata": {}
        }
      ],
      "source": [
        "# Grid results for last fold\n",
        "scores = clf.cv_results_['mean_test_score'].reshape(len(Cs), len(Gs))\n",
        "extent = np.log10([Gs[0], Gs[-1], Cs[0], Cs[-1]])\n",
        "im = plt.imshow(scores, extent=extent, origin='lower')\n",
        "plt.colorbar(im)\n",
        "plt.contour(np.log10(Gs), np.log10(Cs), scores)\n",
        "plt.xlabel('log10(Gamma)')\n",
        "plt.ylabel('log10(C)')\n",
        "print('Best parameters: ', clf.best_params_)"
      ]
    },
    {
      "cell_type": "markdown",
      "metadata": {
        "id": "5xPJdTnwc-xE"
      },
      "source": [
        "## Automated cross validation\n",
        "\n",
        "In the previous lab we saw the importance of using fold validation and we saw a way of implementing it. Fortunately, sklearn provides us with tools that take care of most of the heavy lifting: `cross_val_score` and `cross_val_predict`. The former returns only the score (the error function value, for example MSE), while the latter returns all the predicted values. In general, the score is enough to validate a model and compare different options. However, having all the predicted values may be useful in some cases."
      ]
    },
    {
      "cell_type": "markdown",
      "metadata": {
        "id": "pErmmolLc-xE"
      },
      "source": [
        "The following code may take some time as it is performing nested cross-validation. This is because the `cross_val_score` function performs cross-validation on a meta-predictor that internally performs another cross-validation loop. The result is a nested cross-validation where `cross_val_score` performs the outer loop for performance estimation and the `GridSeachCV` object takes care of the inner one for parameter tuning."
      ]
    },
    {
      "cell_type": "code",
      "execution_count": 10,
      "metadata": {
        "colab": {
          "base_uri": "https://localhost:8080/"
        },
        "id": "bs6HAZwMc-xE",
        "outputId": "0e932385-c8a2-47b7-b118-1e75c190fbdb"
      },
      "outputs": [
        {
          "output_type": "stream",
          "name": "stdout",
          "text": [
            "[0.98055556 0.95555556 0.98050139 0.98885794 0.95821727]\n"
          ]
        }
      ],
      "source": [
        "from sklearn.model_selection import cross_val_score\n",
        "\n",
        "score = cross_val_score(clf, digits.data, digits.target, cv=5)\n",
        "print(score)"
      ]
    },
    {
      "cell_type": "code",
      "source": [
        "print(np.mean(score))"
      ],
      "metadata": {
        "colab": {
          "base_uri": "https://localhost:8080/"
        },
        "id": "Vo8_hoUgmMXg",
        "outputId": "ad6f682d-5992-42ba-b91e-e29ace4c6ab4"
      },
      "execution_count": 15,
      "outputs": [
        {
          "output_type": "stream",
          "name": "stdout",
          "text": [
            "0.9732961931290621\n"
          ]
        }
      ]
    },
    {
      "cell_type": "code",
      "source": [
        "clf = svm.SVC()\n",
        "\n",
        "#impute(......)\n",
        "#normalise(.........)\n",
        "\n",
        "Cs = np.logspace(-1, 3, 5)  # five logarithmically spaced values of C\n",
        "Gs = np.logspace(-7, -0, 5)  # five logarithmically spaced values of gamma\n",
        "clf = GridSearchCV(estimator=clf, param_grid=dict(C=Cs, gamma=Gs), n_jobs=-1)\n",
        "score=cross_val_score(clf, digits.data, digits.target, cv=5)"
      ],
      "metadata": {
        "id": "nVffCYlcmigG"
      },
      "execution_count": 17,
      "outputs": []
    },
    {
      "cell_type": "code",
      "source": [
        "print(score)"
      ],
      "metadata": {
        "colab": {
          "base_uri": "https://localhost:8080/"
        },
        "id": "ljsJR1L8ntiI",
        "outputId": "31aaabec-d932-48dc-f322-89154bf1aebb"
      },
      "execution_count": 18,
      "outputs": [
        {
          "output_type": "stream",
          "name": "stdout",
          "text": [
            "[0.98055556 0.95555556 0.98050139 0.98885794 0.95821727]\n"
          ]
        }
      ]
    },
    {
      "cell_type": "markdown",
      "metadata": {
        "id": "VAGWojkjc-xE"
      },
      "source": [
        "As you can see the score from the fold validation varies fold to fold and it is not 1."
      ]
    },
    {
      "cell_type": "markdown",
      "metadata": {
        "id": "CGit-xWtc-xF"
      },
      "source": [
        "## Pipelines"
      ]
    },
    {
      "cell_type": "markdown",
      "metadata": {
        "id": "GLLX4IEIc-xF"
      },
      "source": [
        "One of the most flexible tools provided by Scikit-learn are the pipelines. These allow us to create sequential steps of preprocessing (those that have `fit` and `transform` methods) followed by a classifier (that has `fit` and `predict` methods). From the point of view of Scikit-learn, the pipeline itself is a classifier, meaning that we can use directly the grid search and the cross validation classes. (To speed up the processing, we are fixing the SVM's C parameter and tuning gamma only)."
      ]
    },
    {
      "cell_type": "code",
      "execution_count": 20,
      "metadata": {
        "colab": {
          "base_uri": "https://localhost:8080/"
        },
        "id": "9VsKTe7qc-xF",
        "outputId": "ec4e1da4-1997-4b2b-fdee-7bfc105cc156"
      },
      "outputs": [
        {
          "output_type": "stream",
          "name": "stdout",
          "text": [
            "[0.97777778 0.95555556 0.98328691 0.98607242 0.9637883 ]\n"
          ]
        }
      ],
      "source": [
        "from sklearn.pipeline import Pipeline\n",
        "from sklearn.preprocessing import StandardScaler\n",
        "\n",
        "sc = StandardScaler()\n",
        "clf = svm.SVC(gamma=0.01, C=10.)\n",
        "pipe = Pipeline(steps=[('scaler', sc), ('classifier', clf)])\n",
        "# Parameters of pipelines can be set using ‘__’ between the name of the pipeline block and its parameter names:\n",
        "param_grid = {\n",
        "    'scaler__with_std': [True, False],\n",
        "    'classifier__gamma': np.logspace(-4, -3, 3),\n",
        "\n",
        "}\n",
        "search = GridSearchCV(pipe, param_grid, n_jobs=-1)\n",
        "score = cross_val_score(search, digits.data, digits.target)\n",
        "print(score)"
      ]
    },
    {
      "cell_type": "markdown",
      "metadata": {
        "id": "1PsGiLYfc-xF"
      },
      "source": [
        "In this particular case, the inclusion of a scaler did not have any impact on the results (because gray levels are somewhat already normalised and possibly because we are not tuning C), but it may be extremely helpful in other cases."
      ]
    },
    {
      "cell_type": "markdown",
      "metadata": {
        "id": "E42UALFDc-xF"
      },
      "source": [
        "# Testing different classifiers"
      ]
    },
    {
      "cell_type": "markdown",
      "metadata": {
        "id": "PRQkoLVhc-xF"
      },
      "source": [
        "### Exercise 1"
      ]
    },
    {
      "cell_type": "markdown",
      "metadata": {
        "id": "18Mb0q-Oc-xF"
      },
      "source": [
        "Try other classifiers to solve the problem and compare their results. Suggestions for classifiers: Logistic Regression, Decision Trees. You will need to look up the documentation to find which are the parameters to be fit as well as the different classes available. Once you do this, you will see how easy is to change the model and test different approaches with this set up."
      ]
    },
    {
      "cell_type": "markdown",
      "metadata": {
        "id": "u2NZ1hfwc-xF"
      },
      "source": [
        "# Regression and unsupervised learning"
      ]
    },
    {
      "cell_type": "markdown",
      "metadata": {
        "id": "DvTtfPLWc-xG"
      },
      "source": [
        "In this lab we have seen how to use sklearn to solve a classification problem, which is why we used support vector machines. However, everything that we have seen here can be applied to both regression and (to some extent) unsupervised learning. Depending on the problem we will need to vary the model used for the prediction but most of the concepts seen on this lab also apply to those cases."
      ]
    },
    {
      "cell_type": "markdown",
      "metadata": {
        "id": "gSzLLblJc-xG"
      },
      "source": [
        "### Exercise 2"
      ]
    },
    {
      "cell_type": "markdown",
      "metadata": {
        "id": "JQRvbRGgc-xG"
      },
      "source": [
        "Load the boston dataset form sklearn `datasets.load_boston` and use what you have learned to solve a regression problem."
      ]
    }
  ],
  "metadata": {
    "kernelspec": {
      "display_name": "Python 3",
      "language": "python",
      "name": "python3"
    },
    "language_info": {
      "codemirror_mode": {
        "name": "ipython",
        "version": 3
      },
      "file_extension": ".py",
      "mimetype": "text/x-python",
      "name": "python",
      "nbconvert_exporter": "python",
      "pygments_lexer": "ipython3",
      "version": "3.7.9"
    },
    "colab": {
      "provenance": [],
      "include_colab_link": true
    }
  },
  "nbformat": 4,
  "nbformat_minor": 0
}